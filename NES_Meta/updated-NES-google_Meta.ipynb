{
 "cells": [
  {
   "cell_type": "code",
   "execution_count": 57,
   "metadata": {
    "inputHidden": false,
    "outputHidden": false
   },
   "outputs": [],
   "source": [
    "import numpy as np\n",
    "import matplotlib.pyplot as plt\n",
    "import seaborn as sns\n",
    "sns.set()"
   ]
  },
  {
   "cell_type": "code",
   "execution_count": 58,
   "metadata": {
    "inputHidden": false,
    "outputHidden": false
   },
   "outputs": [
    {
     "data": {
      "image/png": "[encoded data removed]",
      "text/plain": [
       "<Figure size 720x360 with 1 Axes>"
      ]
     },
     "metadata": {},
     "output_type": "display_data"
    }
   ],
   "source": [
    "plt.figure(figsize = (10, 5))\n",
    "bins = np.linspace(-10, 10, 100)\n",
    "\n",
    "solution = np.random.randn(100)\n",
    "w = np.random.randn(100)\n",
    "\n",
    "plt.hist(solution, bins, alpha = 0.5, label = 'solution', color = 'r')\n",
    "plt.hist(w, bins, alpha = 0.5, label = 'random', color = 'y')\n",
    "plt.legend()\n",
    "plt.show()"
   ]
  },
  {
   "cell_type": "code",
   "execution_count": 59,
   "metadata": {
    "inputHidden": false,
    "outputHidden": false
   },
   "outputs": [
    {
     "name": "stdout",
     "output_type": "stream",
     "text": [
      "iter 1000. w: -0.1058426292462306, solution: -0.655674506360335, reward: -11.428269\n",
      "iter 2000. w: -0.6458795215849504, solution: -0.655674506360335, reward: -0.006572\n",
      "iter 3000. w: -0.6573843034846445, solution: -0.655674506360335, reward: -0.007692\n",
      "iter 4000. w: -0.6532546235710635, solution: -0.655674506360335, reward: -0.007679\n",
      "iter 5000. w: -0.6489526470097551, solution: -0.655674506360335, reward: -0.006191\n"
     ]
    }
   ],
   "source": [
    "def f(w):\n",
    "    return -np.sum(np.square(solution - w))\n",
    "\n",
    "\n",
    "npop = 50\n",
    "sigma = 0.1\n",
    "alpha = 0.001\n",
    "\n",
    "for i in range(5000):\n",
    "\n",
    "    if (i + 1) % 1000 == 0:\n",
    "        print(\n",
    "            'iter %d. w: %s, solution: %s, reward: %f'\n",
    "            % (i + 1, str(w[-1]), str(solution[-1]), f(w))\n",
    "        )\n",
    "    N = np.random.randn(npop, 100)\n",
    "    R = np.zeros(npop)\n",
    "    for j in range(npop):\n",
    "        w_try = w + sigma * N[j]\n",
    "        R[j] = f(w_try)\n",
    "\n",
    "    A = (R - np.mean(R)) / np.std(R)\n",
    "    w = w + alpha / (npop * sigma) * np.dot(N.T, A)"
   ]
  },
  {
   "cell_type": "code",
   "execution_count": 60,
   "metadata": {
    "inputHidden": false,
    "outputHidden": false
   },
   "outputs": [
    {
     "data": {
      "image/png": "[encoded data removed]",
      "text/plain": [
       "<Figure size 720x360 with 1 Axes>"
      ]
     },
     "metadata": {},
     "output_type": "display_data"
    }
   ],
   "source": [
    "'''\n",
    "I want to compare my first two individuals with my real w\n",
    "'''\n",
    "plt.figure(figsize=(10,5))\n",
    "\n",
    "sigma = 0.1\n",
    "N = np.random.randn(npop, 100)\n",
    "individuals = []\n",
    "for j in range(2):\n",
    "    individuals.append(w + sigma * N[j])\n",
    "    \n",
    "    \n",
    "plt.hist(w, bins, alpha=0.5, label='w',color='r')\n",
    "plt.hist(individuals[0], bins, alpha=0.5, label='individual 1')\n",
    "plt.hist(individuals[1], bins, alpha=0.5, label='individual 2')\n",
    "plt.legend()\n",
    "plt.show()"
   ]
  },
  {
   "cell_type": "code",
   "execution_count": 61,
   "metadata": {
    "inputHidden": false,
    "outputHidden": false
   },
   "outputs": [
    {
     "data": {
      "text/html": [
       "<div>\n",
       "<style scoped>\n",
       "    .dataframe tbody tr th:only-of-type {\n",
       "        vertical-align: middle;\n",
       "    }\n",
       "\n",
       "    .dataframe tbody tr th {\n",
       "        vertical-align: top;\n",
       "    }\n",
       "\n",
       "    .dataframe thead th {\n",
       "        text-align: right;\n",
       "    }\n",
       "</style>\n",
       "<table border=\"1\" class=\"dataframe\">\n",
       "  <thead>\n",
       "    <tr style=\"text-align: right;\">\n",
       "      <th></th>\n",
       "      <th>Date</th>\n",
       "      <th>Open</th>\n",
       "      <th>High</th>\n",
       "      <th>Low</th>\n",
       "      <th>Close</th>\n",
       "      <th>Adj Close</th>\n",
       "      <th>Volume</th>\n",
       "    </tr>\n",
       "  </thead>\n",
       "  <tbody>\n",
       "    <tr>\n",
       "      <th>0</th>\n",
       "      <td>2017-10-02</td>\n",
       "      <td>959.979980</td>\n",
       "      <td>962.539978</td>\n",
       "      <td>947.840027</td>\n",
       "      <td>953.270020</td>\n",
       "      <td>953.270020</td>\n",
       "      <td>1283400</td>\n",
       "    </tr>\n",
       "    <tr>\n",
       "      <th>1</th>\n",
       "      <td>2017-10-03</td>\n",
       "      <td>954.000000</td>\n",
       "      <td>958.000000</td>\n",
       "      <td>949.140015</td>\n",
       "      <td>957.789978</td>\n",
       "      <td>957.789978</td>\n",
       "      <td>888300</td>\n",
       "    </tr>\n",
       "    <tr>\n",
       "      <th>2</th>\n",
       "      <td>2017-10-04</td>\n",
       "      <td>957.000000</td>\n",
       "      <td>960.390015</td>\n",
       "      <td>950.690002</td>\n",
       "      <td>951.679993</td>\n",
       "      <td>951.679993</td>\n",
       "      <td>952400</td>\n",
       "    </tr>\n",
       "    <tr>\n",
       "      <th>3</th>\n",
       "      <td>2017-10-05</td>\n",
       "      <td>955.489990</td>\n",
       "      <td>970.909973</td>\n",
       "      <td>955.179993</td>\n",
       "      <td>969.960022</td>\n",
       "      <td>969.960022</td>\n",
       "      <td>1213800</td>\n",
       "    </tr>\n",
       "    <tr>\n",
       "      <th>4</th>\n",
       "      <td>2017-10-06</td>\n",
       "      <td>966.700012</td>\n",
       "      <td>979.460022</td>\n",
       "      <td>963.359985</td>\n",
       "      <td>978.890015</td>\n",
       "      <td>978.890015</td>\n",
       "      <td>1173900</td>\n",
       "    </tr>\n",
       "  </tbody>\n",
       "</table>\n",
       "</div>"
      ],
      "text/plain": [
       "         Date        Open        High         Low       Close   Adj Close  \\\n",
       "0  2017-10-02  959.979980  962.539978  947.840027  953.270020  953.270020   \n",
       "1  2017-10-03  954.000000  958.000000  949.140015  957.789978  957.789978   \n",
       "2  2017-10-04  957.000000  960.390015  950.690002  951.679993  951.679993   \n",
       "3  2017-10-05  955.489990  970.909973  955.179993  969.960022  969.960022   \n",
       "4  2017-10-06  966.700012  979.460022  963.359985  978.890015  978.890015   \n",
       "\n",
       "    Volume  \n",
       "0  1283400  \n",
       "1   888300  \n",
       "2   952400  \n",
       "3  1213800  \n",
       "4  1173900  "
      ]
     },
     "execution_count": 61,
     "metadata": {},
     "output_type": "execute_result"
    }
   ],
   "source": [
    "import pandas as pd\n",
    "google = pd.read_csv('../dataset/GOOG.csv')\n",
    "google.head()"
   ]
  },
  {
   "cell_type": "code",
   "execution_count": 62,
   "metadata": {
    "inputHidden": false,
    "outputHidden": false
   },
   "outputs": [],
   "source": [
    "def get_state(data, t, n):\n",
    "    d = t - n + 1\n",
    "    block = data[d : t + 1] if d >= 0 else -d * [data[0]] + data[: t + 1]\n",
    "    res = []\n",
    "    for i in range(n - 1):\n",
    "        res.append(block[i + 1] - block[i])\n",
    "    return np.array([res])"
   ]
  },
  {
   "cell_type": "code",
   "execution_count": 63,
   "metadata": {
    "inputHidden": false,
    "outputHidden": false
   },
   "outputs": [
    {
     "data": {
      "text/plain": [
       "array([[0., 0., 0., 0., 0., 0., 0., 0., 0.]])"
      ]
     },
     "execution_count": 63,
     "metadata": {},
     "output_type": "execute_result"
    }
   ],
   "source": [
    "close = google.Close.values.tolist()\n",
    "get_state(close, 0, 10)"
   ]
  },
  {
   "cell_type": "code",
   "execution_count": 64,
   "metadata": {
    "inputHidden": false,
    "outputHidden": false
   },
   "outputs": [
    {
     "data": {
      "text/plain": [
       "array([[0.      , 0.      , 0.      , 0.      , 0.      , 0.      ,\n",
       "        0.      , 0.      , 4.519958]])"
      ]
     },
     "execution_count": 64,
     "metadata": {},
     "output_type": "execute_result"
    }
   ],
   "source": [
    "get_state(close, 1, 10)"
   ]
  },
  {
   "cell_type": "code",
   "execution_count": 65,
   "metadata": {
    "inputHidden": false,
    "outputHidden": false
   },
   "outputs": [
    {
     "data": {
      "text/plain": [
       "array([[ 0.      ,  0.      ,  0.      ,  0.      ,  0.      ,  0.      ,\n",
       "         0.      ,  4.519958, -6.109985]])"
      ]
     },
     "execution_count": 65,
     "metadata": {},
     "output_type": "execute_result"
    }
   ],
   "source": [
    "get_state(close, 2, 10)"
   ]
  },
  {
   "cell_type": "code",
   "execution_count": 66,
   "metadata": {
    "inputHidden": false,
    "outputHidden": false
   },
   "outputs": [],
   "source": [
    "class Deep_Evolution_Strategy:\n",
    "    def __init__(\n",
    "        self, weights, reward_function, population_size, sigma, learning_rate\n",
    "    ):\n",
    "        self.weights = weights\n",
    "        self.reward_function = reward_function\n",
    "        self.population_size = population_size\n",
    "        self.sigma = sigma\n",
    "        self.learning_rate = learning_rate\n",
    "\n",
    "    def _get_weight_from_population(self, weights, population):\n",
    "        weights_population = []\n",
    "        for index, i in enumerate(population):\n",
    "            jittered = self.sigma * i\n",
    "            weights_population.append(weights[index] + jittered)\n",
    "        return weights_population\n",
    "\n",
    "    def get_weights(self):\n",
    "        return self.weights\n",
    "\n",
    "    def train(self, epoch = 100, print_every = 1):\n",
    "        lasttime = time.time()\n",
    "        for i in range(epoch):\n",
    "            population = []\n",
    "            rewards = np.zeros(self.population_size)\n",
    "            for k in range(self.population_size):\n",
    "                x = []\n",
    "                for w in self.weights:\n",
    "                    x.append(np.random.randn(*w.shape))\n",
    "                population.append(x)\n",
    "            for k in range(self.population_size):\n",
    "                weights_population = self._get_weight_from_population(\n",
    "                    self.weights, population[k]\n",
    "                )\n",
    "                rewards[k] = self.reward_function(weights_population)\n",
    "            rewards = (rewards - np.mean(rewards)) / np.std(rewards)\n",
    "            for index, w in enumerate(self.weights):\n",
    "                A = np.array([p[index] for p in population])\n",
    "                self.weights[index] = (\n",
    "                    w\n",
    "                    + self.learning_rate\n",
    "                    / (self.population_size * self.sigma)\n",
    "                    * np.dot(A.T, rewards).T ###### Our task is to make this meta by storing each gradient into a global gradient from the MAML paper\n",
    "                )\n",
    "            if (i + 1) % print_every == 0:\n",
    "                print(\n",
    "                    'iter %d. reward: %f'\n",
    "                    % (i + 1, self.reward_function(self.weights))\n",
    "                )\n",
    "        print('time taken to train:', time.time() - lasttime, 'seconds')"
   ]
  },
  {
   "cell_type": "code",
   "execution_count": 67,
   "metadata": {
    "inputHidden": false,
    "outputHidden": false
   },
   "outputs": [],
   "source": [
    "class Model:\n",
    "    def __init__(self, input_size, layer_size, output_size):\n",
    "        self.weights = [\n",
    "            np.random.randn(input_size, layer_size),\n",
    "            np.random.randn(layer_size, output_size),\n",
    "            np.random.randn(layer_size, 1),\n",
    "            np.random.randn(1, layer_size),\n",
    "        ]\n",
    "\n",
    "    def predict(self, inputs):\n",
    "        feed = np.dot(inputs, self.weights[0]) + self.weights[-1]\n",
    "        decision = np.dot(feed, self.weights[1])\n",
    "        buy = np.dot(feed, self.weights[2])\n",
    "        return decision, buy\n",
    "\n",
    "    def get_weights(self):\n",
    "        return self.weights\n",
    "\n",
    "    def set_weights(self, weights):\n",
    "        self.weights = weights"
   ]
  },
  {
   "cell_type": "code",
   "execution_count": 68,
   "metadata": {
    "inputHidden": false,
    "outputHidden": false
   },
   "outputs": [],
   "source": [
    "window_size = 30\n",
    "model = Model(window_size, 500, 3)"
   ]
  },
  {
   "cell_type": "code",
   "execution_count": 69,
   "metadata": {
    "inputHidden": false,
    "outputHidden": false
   },
   "outputs": [
    {
     "data": {
      "text/plain": [
       "2.93210027000001"
      ]
     },
     "execution_count": 69,
     "metadata": {},
     "output_type": "execute_result"
    }
   ],
   "source": [
    "initial_money = 10000\n",
    "starting_money = initial_money\n",
    "len_close = len(close) - 1\n",
    "weight = model\n",
    "skip = 1\n",
    "\n",
    "state = get_state(close, 0, window_size + 1)\n",
    "inventory = []\n",
    "quantity = 0\n",
    "\n",
    "max_buy = 5\n",
    "max_sell = 5\n",
    "\n",
    "\n",
    "def act(model, sequence):\n",
    "    decision, buy = model.predict(np.array(sequence))\n",
    "    return np.argmax(decision[0]), int(buy[0])\n",
    "\n",
    "\n",
    "for t in range(0, len_close, skip):\n",
    "    action, buy = act(weight, state)\n",
    "    next_state = get_state(close, t + 1, window_size + 1)\n",
    "    if action == 1 and initial_money >= close[t]:\n",
    "        if buy < 0:\n",
    "            buy = 1\n",
    "        if buy > max_buy:\n",
    "            buy_units = max_buy\n",
    "        else:\n",
    "            buy_units = buy\n",
    "        total_buy = buy_units * close[t]\n",
    "        initial_money -= total_buy\n",
    "        inventory.append(total_buy)\n",
    "        quantity += buy_units\n",
    "    elif action == 2 and len(inventory) > 0:\n",
    "        if quantity > max_sell:\n",
    "            sell_units = max_sell\n",
    "        else:\n",
    "            sell_units = quantity\n",
    "        quantity -= sell_units\n",
    "        total_sell = sell_units * close[t]\n",
    "        initial_money += total_sell\n",
    "\n",
    "    state = next_state\n",
    "((initial_money - starting_money) / starting_money) * 100"
   ]
  },
  {
   "cell_type": "code",
   "execution_count": 70,
   "metadata": {
    "inputHidden": false,
    "outputHidden": false
   },
   "outputs": [],
   "source": [
    "import time\n",
    "\n",
    "\n",
    "class Agent:\n",
    "\n",
    "    POPULATION_SIZE = 15\n",
    "    SIGMA = 0.1\n",
    "    LEARNING_RATE = 0.03\n",
    "\n",
    "    def __init__(\n",
    "        self, model, money, max_buy, max_sell, close, window_size, skip\n",
    "    ):\n",
    "        self.window_size = window_size\n",
    "        self.skip = skip\n",
    "        self.close = close\n",
    "        self.model = model\n",
    "        self.initial_money = money\n",
    "        self.max_buy = max_buy\n",
    "        self.max_sell = max_sell\n",
    "        self.es = Deep_Evolution_Strategy(\n",
    "            self.model.get_weights(),\n",
    "            self.get_reward,\n",
    "            self.POPULATION_SIZE,\n",
    "            self.SIGMA,\n",
    "            self.LEARNING_RATE,\n",
    "        )\n",
    "\n",
    "    def act(self, sequence):\n",
    "        decision, buy = self.model.predict(np.array(sequence))\n",
    "        return np.argmax(decision[0]), int(buy[0])\n",
    "\n",
    "    def get_reward(self, weights):\n",
    "        initial_money = self.initial_money\n",
    "        starting_money = initial_money\n",
    "        len_close = len(self.close) - 1\n",
    "\n",
    "        self.model.weights = weights\n",
    "        state = get_state(self.close, 0, self.window_size + 1)\n",
    "        inventory = []\n",
    "        quantity = 0\n",
    "        for t in range(0, len_close, self.skip):\n",
    "            action, buy = self.act(state)\n",
    "            next_state = get_state(self.close, t + 1, self.window_size + 1)\n",
    "            if action == 1 and initial_money >= self.close[t]:\n",
    "                if buy < 0:\n",
    "                    buy = 1\n",
    "                if buy > self.max_buy:\n",
    "                    buy_units = self.max_buy\n",
    "                else:\n",
    "                    buy_units = buy\n",
    "                total_buy = buy_units * self.close[t]\n",
    "                initial_money -= total_buy\n",
    "                inventory.append(total_buy)\n",
    "                quantity += buy_units\n",
    "            elif action == 2 and len(inventory) > 0:\n",
    "                if quantity > self.max_sell:\n",
    "                    sell_units = self.max_sell\n",
    "                else:\n",
    "                    sell_units = quantity\n",
    "                quantity -= sell_units\n",
    "                total_sell = sell_units * self.close[t]\n",
    "                initial_money += total_sell\n",
    "\n",
    "            state = next_state\n",
    "        return ((initial_money - starting_money) / starting_money) * 100\n",
    "\n",
    "    def fit(self, iterations, checkpoint):\n",
    "        self.es.train(iterations, print_every = checkpoint)\n",
    "\n",
    "    def buy(self):\n",
    "        initial_money = self.initial_money\n",
    "        len_close = len(self.close) - 1\n",
    "        state = get_state(self.close, 0, self.window_size + 1)\n",
    "        starting_money = initial_money\n",
    "        states_sell = []\n",
    "        states_buy = []\n",
    "        inventory = []\n",
    "        quantity = 0\n",
    "        for t in range(0, len_close, self.skip):\n",
    "            action, buy = self.act(state)\n",
    "            next_state = get_state(self.close, t + 1, self.window_size + 1)\n",
    "            if action == 1 and initial_money >= self.close[t]:\n",
    "                if buy < 0:\n",
    "                    buy = 1\n",
    "                if buy > self.max_buy:\n",
    "                    buy_units = self.max_buy\n",
    "                else:\n",
    "                    buy_units = buy\n",
    "                total_buy = buy_units * self.close[t]\n",
    "                initial_money -= total_buy\n",
    "                inventory.append(total_buy)\n",
    "                quantity += buy_units\n",
    "                states_buy.append(t)\n",
    "                print(\n",
    "                    'day %d: buy %d units at price %f, total balance %f'\n",
    "                    % (t, buy_units, total_buy, initial_money)\n",
    "                )\n",
    "            elif action == 2 and len(inventory) > 0:\n",
    "                bought_price = inventory.pop(0)\n",
    "                if quantity > self.max_sell:\n",
    "                    sell_units = self.max_sell\n",
    "                else:\n",
    "                    sell_units = quantity\n",
    "                if sell_units < 1:\n",
    "                    continue\n",
    "                quantity -= sell_units\n",
    "                total_sell = sell_units * self.close[t]\n",
    "                initial_money += total_sell\n",
    "                states_sell.append(t)\n",
    "                try:\n",
    "                    invest = ((total_sell - bought_price) / bought_price) * 100\n",
    "                except:\n",
    "                    invest = 0\n",
    "                print(\n",
    "                    'day %d, sell %d units at price %f, investment %f %%, total balance %f,'\n",
    "                    % (t, sell_units, total_sell, invest, initial_money)\n",
    "                )\n",
    "            state = next_state\n",
    "\n",
    "        invest = ((initial_money - starting_money) / starting_money) * 100\n",
    "        print(\n",
    "            '\\ntotal gained %f, total investment %f %%'\n",
    "            % (initial_money - starting_money, invest)\n",
    "        )\n",
    "        plt.figure(figsize = (20, 10))\n",
    "        plt.plot(close, label = 'true close', c = 'g')\n",
    "        plt.plot(\n",
    "            close, 'X', label = 'predict buy', markevery = states_buy, c = 'b'\n",
    "        )\n",
    "        plt.plot(\n",
    "            close, 'o', label = 'predict sell', markevery = states_sell, c = 'r'\n",
    "        )\n",
    "        plt.legend()\n",
    "        plt.show()"
   ]
  },
  {
   "cell_type": "code",
   "execution_count": 73,
   "metadata": {
    "inputHidden": false,
    "outputHidden": false
   },
   "outputs": [],
   "source": [
    "model = Model(input_size = window_size, layer_size = 500, output_size = 3)\n",
    "agent = Agent(\n",
    "    model = model,\n",
    "    money = 10000,\n",
    "    max_buy = 5,\n",
    "    max_sell = 5,\n",
    "    close = close,\n",
    "    window_size = window_size,\n",
    "    skip = 1,\n",
    ")"
   ]
  },
  {
   "cell_type": "code",
   "execution_count": 74,
   "metadata": {
    "inputHidden": false,
    "outputHidden": false
   },
   "outputs": [
    {
     "name": "stdout",
     "output_type": "stream",
     "text": [
      "iter 10. reward: 4.500702\n",
      "iter 20. reward: 4.034702\n",
      "iter 30. reward: 5.951801\n",
      "iter 40. reward: 7.500803\n",
      "iter 50. reward: 7.231202\n",
      "iter 60. reward: 7.500803\n",
      "iter 70. reward: 7.500803\n",
      "iter 80. reward: 7.500803\n",
      "iter 90. reward: 7.500803\n",
      "iter 100. reward: 5.081903\n",
      "iter 110. reward: 7.701603\n",
      "iter 120. reward: 7.701603\n",
      "iter 130. reward: 7.701603\n",
      "iter 140. reward: 7.701603\n",
      "iter 150. reward: 7.701603\n",
      "iter 160. reward: 7.701603\n",
      "iter 170. reward: 7.701603\n",
      "iter 180. reward: 7.701603\n",
      "iter 190. reward: 7.701603\n",
      "iter 200. reward: 7.701603\n",
      "iter 210. reward: 7.701603\n",
      "iter 220. reward: 7.701603\n",
      "iter 230. reward: 7.701603\n",
      "iter 240. reward: 7.701603\n",
      "iter 250. reward: 7.701603\n",
      "iter 260. reward: 7.701603\n",
      "iter 270. reward: 7.701603\n",
      "iter 280. reward: 7.701603\n",
      "iter 290. reward: 7.701603\n",
      "iter 300. reward: 7.701603\n",
      "iter 310. reward: 7.701603\n",
      "iter 320. reward: 7.701603\n",
      "iter 330. reward: 7.701603\n",
      "iter 340. reward: 7.701603\n",
      "iter 350. reward: 7.701603\n",
      "iter 360. reward: 7.701603\n",
      "iter 370. reward: 7.701603\n",
      "iter 380. reward: 7.701603\n",
      "iter 390. reward: 7.701603\n",
      "iter 400. reward: 7.701603\n",
      "iter 410. reward: 8.219602\n",
      "iter 420. reward: 8.219602\n",
      "iter 430. reward: 8.219602\n",
      "iter 440. reward: 8.219602\n",
      "iter 450. reward: 8.219602\n",
      "iter 460. reward: 8.219602\n",
      "iter 470. reward: 8.219602\n",
      "iter 480. reward: 8.219602\n",
      "iter 490. reward: 8.219602\n",
      "iter 500. reward: 8.219602\n",
      "time taken to train: 21.33975863456726 seconds\n"
     ]
    }
   ],
   "source": [
    "agent.fit(iterations = 500, checkpoint = 10)"
   ]
  },
  {
   "cell_type": "code",
   "execution_count": 75,
   "metadata": {
    "inputHidden": false,
    "outputHidden": false
   },
   "outputs": [
    {
     "name": "stdout",
     "output_type": "stream",
     "text": [
      "day 0: buy 5 units at price 4766.350100, total balance 5233.649900\n",
      "day 1: buy 5 units at price 4788.949890, total balance 444.700010\n",
      "day 5, sell 5 units at price 4885.000000, investment 2.489324 %, total balance 5329.700010,\n",
      "day 6: buy 5 units at price 4862.999880, total balance 466.700130\n",
      "day 8, sell 5 units at price 4939.150085, investment 3.136391 %, total balance 5405.850215,\n",
      "day 9: buy 1 units at price 989.679993, total balance 4416.170222\n",
      "day 10: buy 5 units at price 4960.000000, total balance -543.829778\n",
      "day 11, sell 5 units at price 4960.899965, investment 2.013162 %, total balance 4417.070187,\n",
      "day 12, sell 5 units at price 4964.049990, investment 401.581322 %, total balance 9381.120177,\n",
      "day 14: buy 5 units at price 4941.000060, total balance 4440.120117\n",
      "day 16: buy 1 units at price 970.539978, total balance 3469.580139\n",
      "day 18: buy 5 units at price 4862.799990, total balance -1393.219851\n",
      "day 19, sell 5 units at price 5096.350100, investment 2.748994 %, total balance 3703.130249,\n",
      "day 20, sell 5 units at price 5085.549925, investment 2.925518 %, total balance 8788.680174,\n",
      "day 21, sell 2 units at price 2033.280030, investment 109.499874 %, total balance 10821.960204,\n",
      "\n",
      "total gained 821.960204, total investment 8.219602 %\n"
     ]
    },
    {
     "data": {
      "image/png": "[encoded data removed]",
      "text/plain": [
       "<Figure size 1440x720 with 1 Axes>"
      ]
     },
     "metadata": {},
     "output_type": "display_data"
    }
   ],
   "source": [
    "agent.buy()"
   ]
  },
  {
   "cell_type": "code",
   "execution_count": null,
   "metadata": {
    "inputHidden": false,
    "outputHidden": false
   },
   "outputs": [],
   "source": []
  }
 ],
 "metadata": {
  "kernel_info": {
   "name": "python3"
  },
  "kernelspec": {
   "display_name": "Python [default]",
   "language": "python",
   "name": "python3"
  },
  "language_info": {
   "codemirror_mode": {
    "name": "ipython",
    "version": 3
   },
   "file_extension": ".py",
   "mimetype": "text/x-python",
   "name": "python",
   "nbconvert_exporter": "python",
   "pygments_lexer": "ipython3",
   "version": "3.6.5"
  },
  "nteract": {
   "version": "0.11.9"
  }
 },
 "nbformat": 4,
 "nbformat_minor": 4
}
